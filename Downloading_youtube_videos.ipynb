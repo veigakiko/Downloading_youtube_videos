{
  "nbformat": 4,
  "nbformat_minor": 0,
  "metadata": {
    "colab": {
      "private_outputs": true,
      "provenance": []
    },
    "kernelspec": {
      "name": "python3",
      "display_name": "Python 3"
    },
    "language_info": {
      "name": "python"
    }
  },
  "cells": [
    {
      "cell_type": "code",
      "source": [
        "!pip install pytube\n",
        "!pip install tk\n",
        "\n",
        "import tkinter as tk\n",
        "from tkinter import filedialog\n",
        "from pytube import YouTube\n",
        "\n",
        "def Download(url):\n",
        "  yt = YouTube(url)\n",
        "  yt.streams\n",
        "  yt.streams.filter(progressive=True)\n",
        "  yt.streams.filter(adaptive=True)\n",
        "  yt.streams.filter(only_audio=True)\n",
        "  yt.streams.filter(file_extension='mp4')\n",
        "  stream = yt.streams.get_by_itag(22)\n",
        "  stream.download()"
      ],
      "metadata": {
        "id": "otlgpeC9R-45"
      },
      "execution_count": null,
      "outputs": []
    },
    {
      "cell_type": "code",
      "source": [
        "url = 'https://www.youtube.com/watch?v=8-agl9TRBwM'\n",
        "Download(url)"
      ],
      "metadata": {
        "id": "Ji7WLznmfCVS"
      },
      "execution_count": null,
      "outputs": []
    }
  ]
}